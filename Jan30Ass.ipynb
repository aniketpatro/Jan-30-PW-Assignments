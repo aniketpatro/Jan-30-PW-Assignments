{
 "cells": [
  {
   "cell_type": "code",
   "execution_count": null,
   "metadata": {},
   "outputs": [],
   "source": [
    "# q1"
   ]
  },
  {
   "cell_type": "code",
   "execution_count": null,
   "metadata": {},
   "outputs": [],
   "source": [
    "marks = int(input(\"Enter the percentage : \"))\n",
    "\n",
    "if marks>60:\n",
    "    print(\"You got grade : A\")\n",
    "elif marks>80 and marks<=90:\n",
    "    print(\"You got grade : B\")\n",
    "elif marks>=60 and marks<=80:\n",
    "    print(\"You got grade : C\")\n",
    "elif marks<60 and marks>=0:\n",
    "    print(\"You got grade : D\")\n",
    "else:\n",
    "    print(\"Enter a valid percentage.\")\n"
   ]
  },
  {
   "cell_type": "code",
   "execution_count": null,
   "metadata": {},
   "outputs": [],
   "source": [
    "# q2"
   ]
  },
  {
   "cell_type": "code",
   "execution_count": null,
   "metadata": {},
   "outputs": [],
   "source": [
    "b_price = int(input(\"Enter the price of the bike : \"))\n",
    "\n",
    "if b_price>100000:\n",
    "    print(\"You have to pay a tax of 15%\")\n",
    "elif b_price>50000 and b_price<=100000:\n",
    "    print(\"You have to pay a tax of 10%\")\n",
    "elif b_price<=50000 and b_price>0:\n",
    "    print(\"You have to pay a tax of 5%\")\n",
    "else:\n",
    "    print(\"Enter a valid price\")"
   ]
  },
  {
   "cell_type": "code",
   "execution_count": null,
   "metadata": {},
   "outputs": [],
   "source": [
    "# q3"
   ]
  },
  {
   "cell_type": "code",
   "execution_count": null,
   "metadata": {},
   "outputs": [],
   "source": [
    "print(\"Delhi or Agra or Jaipur\")\n",
    "city = input(\"Choose a city name from above : \")\n",
    "\n",
    "if city.lower()==\"delhi\":\n",
    "    print(\"At Delhi, the monument you can visit is : Red Fort\")\n",
    "elif city.lower()==\"agra\":\n",
    "    print(\"At Agra, the monument you can visit is : Taj Mahal\")\n",
    "elif city.lower()==\"jaipur\":\n",
    "    print(\"At Jaipur, the monument you can visit is : Jai Mahal\")\n",
    "else:\n",
    "    print(\"Enter city from above options...\")"
   ]
  },
  {
   "cell_type": "code",
   "execution_count": null,
   "metadata": {},
   "outputs": [],
   "source": [
    "# q4"
   ]
  },
  {
   "cell_type": "code",
   "execution_count": null,
   "metadata": {},
   "outputs": [],
   "source": [
    "x = int(input(\"Enter an integer : \"))\n",
    "count = 0\n",
    "r = x\n",
    "while(r!=0):\n",
    "    #print (r)\n",
    "    if r%3==0:\n",
    "        count+=1\n",
    "    if r<=10:\n",
    "        break\n",
    "    \n",
    "print(count)"
   ]
  },
  {
   "cell_type": "code",
   "execution_count": null,
   "metadata": {},
   "outputs": [],
   "source": [
    "# q5"
   ]
  },
  {
   "cell_type": "code",
   "execution_count": null,
   "metadata": {},
   "outputs": [],
   "source": [
    "# A \"While\" Loop is used to repeat a specific block of code an unknown number of times, until a condition is met. And while loop is used when we don't know how many times we have to do the iteration."
   ]
  },
  {
   "cell_type": "code",
   "execution_count": null,
   "metadata": {},
   "outputs": [],
   "source": [
    "# q6"
   ]
  },
  {
   "cell_type": "code",
   "execution_count": 14,
   "metadata": {},
   "outputs": [
    {
     "name": "stdout",
     "output_type": "stream",
     "text": [
      "*  \n",
      "*  *  \n",
      "*  *  *  \n",
      "*  *  *  *  \n",
      "*  *  *  *  *  \n"
     ]
    }
   ],
   "source": [
    "n = 5\n",
    "i = 1\n",
    "while i<=n:\n",
    "    j=1\n",
    "    while j<=i:\n",
    "        print('*' , end = '  ')\n",
    "        j+=1\n",
    "    print('\\r')\n",
    "    i+=1"
   ]
  },
  {
   "cell_type": "code",
   "execution_count": 17,
   "metadata": {},
   "outputs": [
    {
     "name": "stdout",
     "output_type": "stream",
     "text": [
      "*  *  *  *  *  \n",
      "*  *  *  *  \n",
      "*  *  *  \n",
      "*  *  \n",
      "*  \n"
     ]
    }
   ],
   "source": [
    "n = 5\n",
    "i = 1\n",
    "while n>0:\n",
    "    j=1\n",
    "    while j<=n:\n",
    "        print('*' , end = '  ')\n",
    "        j+=1\n",
    "    print('\\r')\n",
    "    n-=1"
   ]
  },
  {
   "cell_type": "code",
   "execution_count": 18,
   "metadata": {},
   "outputs": [
    {
     "name": "stdout",
     "output_type": "stream",
     "text": [
      "*  *  *  *  *  \n",
      "*  *  *  *  *  \n",
      "*  *  *  *  *  \n",
      "*  *  *  *  *  \n",
      "*  *  *  *  *  \n"
     ]
    }
   ],
   "source": [
    "n = 5\n",
    "i = 1\n",
    "while i<=n:\n",
    "    j=1\n",
    "    while j<=n:\n",
    "        print('*' , end = '  ')\n",
    "        j+=1\n",
    "    print('\\r')\n",
    "    i+=1"
   ]
  },
  {
   "cell_type": "code",
   "execution_count": 19,
   "metadata": {},
   "outputs": [],
   "source": [
    "# q7"
   ]
  },
  {
   "cell_type": "code",
   "execution_count": 22,
   "metadata": {},
   "outputs": [
    {
     "name": "stdout",
     "output_type": "stream",
     "text": [
      "10\n",
      "9\n",
      "8\n",
      "7\n",
      "6\n",
      "5\n",
      "4\n",
      "3\n",
      "2\n",
      "1\n"
     ]
    }
   ],
   "source": [
    "n = 10\n",
    "while n>0:\n",
    "    print(n)\n",
    "    n-=1"
   ]
  },
  {
   "cell_type": "code",
   "execution_count": 23,
   "metadata": {},
   "outputs": [],
   "source": [
    "# q8"
   ]
  },
  {
   "cell_type": "code",
   "execution_count": 24,
   "metadata": {},
   "outputs": [
    {
     "name": "stdout",
     "output_type": "stream",
     "text": [
      "10\n",
      "9\n",
      "8\n",
      "7\n",
      "6\n",
      "5\n",
      "4\n",
      "3\n",
      "2\n",
      "1\n"
     ]
    }
   ],
   "source": [
    "n = 10\n",
    "while n>0:\n",
    "    print(n)\n",
    "    n-=1"
   ]
  },
  {
   "cell_type": "code",
   "execution_count": null,
   "metadata": {},
   "outputs": [],
   "source": []
  }
 ],
 "metadata": {
  "kernelspec": {
   "display_name": "Python 3",
   "language": "python",
   "name": "python3"
  },
  "language_info": {
   "codemirror_mode": {
    "name": "ipython",
    "version": 3
   },
   "file_extension": ".py",
   "mimetype": "text/x-python",
   "name": "python",
   "nbconvert_exporter": "python",
   "pygments_lexer": "ipython3",
   "version": "3.11.1"
  },
  "orig_nbformat": 4,
  "vscode": {
   "interpreter": {
    "hash": "5238573367df39f7286bb46f9ff5f08f63a01a80960060ce41e3c79b190280fa"
   }
  }
 },
 "nbformat": 4,
 "nbformat_minor": 2
}
